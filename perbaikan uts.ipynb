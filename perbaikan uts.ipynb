{
 "cells": [
  {
   "cell_type": "code",
   "execution_count": 1,
   "metadata": {},
   "outputs": [],
   "source": [
    "import tweepy\n",
    "from sklearn.feature_extraction.text import CountVectorizer\n",
    "from sklearn.feature_extraction.text import TfidfTransformer\n",
    "import pandas as pd\n",
    "import json\n",
    "import re\n",
    "import csv\n",
    "import numpy as np\n",
    "from Sastrawi.Stemmer.StemmerFactory import StemmerFactory\n",
    "import nltk"
   ]
  },
  {
   "cell_type": "code",
   "execution_count": 2,
   "metadata": {},
   "outputs": [],
   "source": [
    "#konfigurasi API twitter\n",
    "consumer_key = \"wblCcwrSkTrL463ew9HBaOydH\"\n",
    "consumer_secret = \"uCpAC4qsQ1gZTk9tk2nx2x0lkJTQYRIiwILZSzlWtxwxf186G5\"\n",
    "access_token = \"1150618299392069632-Yx0HDItOkuvbiHT4KBrSoKdSM3lh3D\"\n",
    "access_token_secret = \"iybEGs98DdvfsV5FTs0wzervU5pb9nI6Sh514gV9QI0Sm\""
   ]
  },
  {
   "cell_type": "code",
   "execution_count": 3,
   "metadata": {},
   "outputs": [],
   "source": [
    "#mencari keyword untuk di crawl data text nya ddengan api twitter\n",
    "auth = tweepy.OAuthHandler(consumer_key, consumer_secret)\n",
    "auth.set_access_token(access_token, access_token_secret)\n",
    "api = tweepy.API(auth)\n",
    "tweet = api.search(q='kebakaran -filter:retweets',lang=\"id\", count=5)"
   ]
  },
  {
   "cell_type": "code",
   "execution_count": 32,
   "metadata": {},
   "outputs": [],
   "source": [
    "array=[]\n",
    "\n",
    "for dataTweet in tweet:\n",
    "    hasilCrawl=dataTweet.text\n",
    "    array.append(hasilCrawl)"
   ]
  },
  {
   "cell_type": "code",
   "execution_count": 33,
   "metadata": {},
   "outputs": [
    {
     "data": {
      "text/plain": [
       "['Halo dgn pemadam kebakaran?|Btl.Ada\\nkebakaran dmana?| Tlg pak!! Hati saya lg\\nterbakar api asmara! Padamin dong Pak!! |\\nMinum baygon gih!',\n",
       " '@eLAmaravati Dulu orangtuaku ngajarin cara menghadapi kebakaran, banjir, dan gempa.. Soalnya mereka pernah ngalamin… https://t.co/HApOxRvFix',\n",
       " '@Rizmaya__ intinya semua orang takut sama satu orang ini yaa,, makanya apapun yg dilakukan selalu dibenci, klo aku… https://t.co/TzKVWKQfdY',\n",
       " '@wuffjeno Ini aja yg editan kebakaran jenggot',\n",
       " '@nctzenbase maaf, truk pemadam kebakaran']"
      ]
     },
     "execution_count": 33,
     "metadata": {},
     "output_type": "execute_result"
    }
   ],
   "source": [
    "array"
   ]
  },
  {
   "cell_type": "code",
   "execution_count": 27,
   "metadata": {},
   "outputs": [
    {
     "data": {
      "text/plain": [
       "40"
      ]
     },
     "execution_count": 27,
     "metadata": {},
     "output_type": "execute_result"
    }
   ],
   "source": [
    "len(array)"
   ]
  },
  {
   "cell_type": "code",
   "execution_count": 28,
   "metadata": {},
   "outputs": [
    {
     "name": "stdout",
     "output_type": "stream",
     "text": [
      "@nctzenbase maaf, truk pemadam kebakaran\n"
     ]
    }
   ],
   "source": [
    "\n",
    "# gunakan fungsi .lower()\n",
    "lowercase_sentence = array.lower()\n",
    "\n",
    "print(lowercase_sentence)"
   ]
  },
  {
   "cell_type": "code",
   "execution_count": null,
   "metadata": {},
   "outputs": [],
   "source": []
  }
 ],
 "metadata": {
  "kernelspec": {
   "display_name": "Python 3",
   "language": "python",
   "name": "python3"
  },
  "language_info": {
   "codemirror_mode": {
    "name": "ipython",
    "version": 3
   },
   "file_extension": ".py",
   "mimetype": "text/x-python",
   "name": "python",
   "nbconvert_exporter": "python",
   "pygments_lexer": "ipython3",
   "version": "3.8.3"
  }
 },
 "nbformat": 4,
 "nbformat_minor": 4
}
